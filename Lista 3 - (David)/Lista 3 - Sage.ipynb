{
 "cells": [
  {
   "cell_type": "markdown",
   "metadata": {
    "collapsed": false
   },
   "source": [
    "**1.    Defina resumidamente, um grupo, um anel, um corpo.**  \n",
    "\n"
   ]
  },
  {
   "cell_type": "code",
   "execution_count": 1,
   "metadata": {
    "collapsed": false
   },
   "outputs": [
   ],
   "source": [
    "Grupo:\n",
    "    Um conjunto não vazio de elementos algébricos com uma operação binária denominada multiplicação, e que deve satisfazer algumas propriedades:\n",
    "        1.Fechamento\n",
    "        2.Associatividade\n",
    "        3.Identidade\n",
    "        4.Inverso\n",
    "Anel:\n",
    "    Um conjunto não vazio de elementos algébricos com duas operações binárias denominadas adição e multiplicação, e que deve satisfazer algumas propriedades:\n",
    "        O conjunto com a operação de adição possui todas as propriedades que o grupo tem para a multiplicação\n",
    "        O conjunto com a operação multiplicativa é associativo e distributivo\n",
    "Corpo:\n",
    "    É o mesmo que um anel porém com uma propriedade adicional do inverso para elementos não nulos.\n"
   ]
  },
  {
   "cell_type": "markdown",
   "metadata": {
    "collapsed": false
   },
   "source": [
    "**2.    O que significa dizer que b é um divisor de a?**  \n",
    "\n"
   ]
  },
  {
   "cell_type": "code",
   "execution_count": 0,
   "metadata": {
    "collapsed": false
   },
   "outputs": [
   ],
   "source": [
    "Significa que b divide a de forma exata, em outras palavras, o resto da divisão de a por b é zero.\n"
   ]
  },
  {
   "cell_type": "markdown",
   "metadata": {
    "collapsed": false
   },
   "source": [
    "**3.    Para cada uma das seguintes equações, encontre um inteiro x que satisfaça:**  \n",
    "\n",
    "**\\(a\\) 5x ≡ 4 \\(mod 3\\)**\n",
    "\n",
    "**\\(b\\) 7x ≡ 6 \\(mod 5\\)**\n",
    "\n",
    "**\\(c\\) 9x ≡ 8 \\(mod 7\\)**  \n",
    "\n"
   ]
  },
  {
   "cell_type": "code",
   "execution_count": 1,
   "metadata": {
    "collapsed": false
   },
   "outputs": [
    {
     "name": "stdout",
     "output_type": "stream",
     "text": [
      "2\n",
      "3\n",
      "4\n"
     ]
    }
   ],
   "source": [
    "print(solve_mod([5*x == 4%3], 3)[0][0])\n",
    "print(solve_mod([7*x == 6%5], 5)[0][0])\n",
    "print(solve_mod([9*x == 8%7], 7)[0][0])"
   ]
  },
  {
   "cell_type": "markdown",
   "metadata": {
    "collapsed": false
   },
   "source": [
    "**4.     Encontre o inverso multiplicativo de cada elemento diferente de zero em Z5.**  \n",
    "\n"
   ]
  },
  {
   "cell_type": "code",
   "execution_count": 2,
   "metadata": {
    "collapsed": false
   },
   "outputs": [
    {
     "name": "stdout",
     "output_type": "stream",
     "text": [
      "1\n",
      "3\n",
      "2\n",
      "4\n"
     ]
    }
   ],
   "source": [
    "R = IntegerModRing(5)\n",
    "print(R(1)^-1)\n",
    "print(R(2)^-1)\n",
    "print(R(3)^-1)\n",
    "print(R(4)^-1)"
   ]
  },
  {
   "cell_type": "markdown",
   "metadata": {
    "collapsed": false
   },
   "source": [
    "**5.     Determine os MDC:**   \n",
    "\n",
    "**\\(a\\) mdc\\(24140, 16762\\)**\n",
    "\n",
    "**\\(b\\) mdc\\(4655, 12075\\)**  \n",
    "\n"
   ]
  },
  {
   "cell_type": "code",
   "execution_count": 3,
   "metadata": {
    "collapsed": false
   },
   "outputs": [
    {
     "name": "stdout",
     "output_type": "stream",
     "text": [
      "34\n",
      "35\n"
     ]
    }
   ],
   "source": [
    "print(gcd(24140,16762))\n",
    "print(gcd(4655,12075))"
   ]
  },
  {
   "cell_type": "markdown",
   "metadata": {
    "collapsed": false
   },
   "source": [
    "**6.     Usando o algoritmo de Euclides estendido, encontre o inverso multiplicativo de:** \n",
    "\n",
    "**\\(a\\) 1234 mod 4321;**\n",
    "\n",
    "**\\(b\\) 24140 mod 40902;** \n",
    "\n",
    "**\\(c\\) 550 mod 1769.**   \n",
    "\n"
   ]
  },
  {
   "cell_type": "code",
   "execution_count": 9,
   "metadata": {
    "collapsed": false
   },
   "outputs": [
    {
     "name": "stdout",
     "output_type": "stream",
     "text": [
      "3239\n",
      "550\n",
      "[]\n",
      "Erro Divisão por Zero\n"
     ]
    }
   ],
   "source": [
    "print(inverse_mod(1234,4321))\n",
    "print(solve_mod([550*x == 1%1769], 1769)[0][0])\n",
    "print(solve_mod([24140*x == 1%40902], 40902))\n",
    "try:\n",
    "    print(inverse_mod(24140,40902))\n",
    "except ZeroDivisionError:\n",
    "    print(\"Erro Divisão por Zero\")\n",
    "\n",
    "# A função inverse_mod quebra ao não encontrar um resultado para o inverso multiplicativo, enquanto que a solve_mod para uma equação equivalente apenas retorna um conjunto vazio."
   ]
  },
  {
   "cell_type": "markdown",
   "metadata": {
    "collapsed": false
   },
   "source": [
    "**7.     Determine o inverso multiplicativo de x^3 \\+ x \\+ 1 em GF\\(2^4\\), com m\\(x\\) = x^4 \\+ x \\+ 1**  \n",
    "\n"
   ]
  },
  {
   "cell_type": "code",
   "execution_count": 44,
   "metadata": {
    "collapsed": false
   },
   "outputs": [
    {
     "name": "stdout",
     "output_type": "stream",
     "text": [
      "x^2 + 1\n"
     ]
    }
   ],
   "source": [
    "print(inverse_mod(x^3 + x + 1,x^4 + x + 1))"
   ]
  },
  {
   "cell_type": "markdown",
   "metadata": {
    "collapsed": false
   },
   "source": [
    "**8.     Para a aritmética de polinômios com coeficientes em Z10, realize os seguintes cálculos:**   \n",
    "\n",
    "**\\(a\\) \\(7x \\+ 2\\) − \\(x^2 \\+ 5\\)** \n",
    "\n",
    "**\\(b\\) \\(6x^2 \\+ x \\+ 3\\) × \\(5x^2 \\+ 2\\)**  \n",
    "\n"
   ]
  },
  {
   "cell_type": "code",
   "execution_count": 2,
   "metadata": {
    "collapsed": false
   },
   "outputs": [
   ],
   "source": [
    "R.<x> = PolynomialRing(QQ)\n",
    "\n",
    "a = ((7*x + 2) - (x^2 + 5))\n",
    "\n",
    "b = ((6*x^2 + x + 3) * (5*x^2 + 2))"
   ]
  },
  {
   "cell_type": "code",
   "execution_count": 23,
   "metadata": {
    "collapsed": false
   },
   "outputs": [
   ],
   "source": [
    "def poly_mod_int(p, k):\n",
    "    return p.parent()([mod_int(a, k) for a in p])\n",
    "\n",
    "def mod_int(a, k):\n",
    "    if a.numerator() < k:\n",
    "        return a.numerator()\n",
    "    else:\n",
    "        return a.numerator() % k"
   ]
  },
  {
   "cell_type": "code",
   "execution_count": 24,
   "metadata": {
    "collapsed": false
   },
   "outputs": [
    {
     "name": "stdout",
     "output_type": "stream",
     "text": [
      "-x^2 + 7*x - 3\n",
      "5*x^3 + 7*x^2 + 2*x + 6\n"
     ]
    }
   ],
   "source": [
    "print(poly_mod_int(a, 10))\n",
    "print(poly_mod_int(b, 10))"
   ]
  },
  {
   "cell_type": "markdown",
   "metadata": {
    "collapsed": false
   },
   "source": [
    "**9.     Estruture uma calculadora simples de quatro funções em GF\\(24\\). Você pode usar uma tabela com valores pré\\-calculados para os inversos multiplicativos.**   \n",
    "\n"
   ]
  },
  {
   "cell_type": "code",
   "execution_count": 0,
   "metadata": {
    "collapsed": false
   },
   "outputs": [
   ],
   "source": [
   ]
  }
 ],
 "metadata": {
  "kernelspec": {
   "argv": [
    "sage-10.0",
    "--python",
    "-m",
    "sage.repl.ipython_kernel",
    "--matplotlib=inline",
    "-f",
    "{connection_file}"
   ],
   "display_name": "SageMath 10.0",
   "env": {
   },
   "language": "sagemath",
   "metadata": {
    "cocalc": {
     "description": "Open-source mathematical software system",
     "priority": 10,
     "url": "https://www.sagemath.org/"
    }
   },
   "name": "sage-10.0",
   "resource_dir": "/ext/jupyter/kernels/sage-10.0"
  },
  "language_info": {
   "codemirror_mode": {
    "name": "ipython",
    "version": 3
   },
   "file_extension": ".py",
   "mimetype": "text/x-python",
   "name": "python",
   "nbconvert_exporter": "python",
   "pygments_lexer": "ipython3",
   "version": "3.11.1"
  }
 },
 "nbformat": 4,
 "nbformat_minor": 4
}