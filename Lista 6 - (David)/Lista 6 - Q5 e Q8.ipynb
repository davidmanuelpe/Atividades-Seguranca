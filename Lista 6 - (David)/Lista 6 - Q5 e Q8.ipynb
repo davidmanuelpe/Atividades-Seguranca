{
 "cells": [
  {
   "cell_type": "markdown",
   "metadata": {
    "collapsed": false
   },
   "source": [
    "#### <span style='font-family:Impact'>5. Se apanharmos um algoritmo de congruência linear com um componente aditivo de 0:</span>\n",
    "\n",
    "#### <span style='font-family:Impact'>Xn\\+1 = \\(aXn\\) mod m, então, podemos mostrar que, se m é primo, e se determinado valor de \\(a\\) produz o período máximo de m − 1, então a^k também produzirá o período máximo, desde que k seja menor que \\(m\\) e que \\(m − 1\\) não seja divisível por \\(k\\). Demonstre isso usando X0 = 1 e m = 31, e produzindo as sequências para ak = 3, 3^2, 3^3 e 3^4</span>\n",
    "\n"
   ]
  },
  {
   "cell_type": "code",
   "execution_count": 2,
   "metadata": {
    "collapsed": false
   },
   "outputs": [
    {
     "name": "stdout",
     "output_type": "stream",
     "text": [
      "[['X_0', 1], ['X_1', 3], ['X_2', 9], ['X_3', 27], ['X_4', 19], ['X_5', 26], ['X_6', 16], ['X_7', 17], ['X_8', 20], ['X_9', 29], ['X_10', 25], ['X_11', 13], ['X_12', 8], ['X_13', 24], ['X_14', 10], ['X_15', 30], ['X_16', 28], ['X_17', 22], ['X_18', 4], ['X_19', 12], ['X_20', 5], ['X_21', 15], ['X_22', 14], ['X_23', 11], ['X_24', 2], ['X_25', 6], ['X_26', 18], ['X_27', 23], ['X_28', 7], ['X_29', 21], ['X_30', 1]] \n",
      "\n",
      "[['X_0', 1], ['X_1', 9], ['X_2', 19], ['X_3', 16], ['X_4', 20], ['X_5', 25], ['X_6', 8], ['X_7', 10], ['X_8', 28], ['X_9', 4], ['X_10', 5], ['X_11', 14], ['X_12', 2], ['X_13', 18], ['X_14', 7], ['X_15', 1], ['X_16', 9], ['X_17', 19], ['X_18', 16], ['X_19', 20], ['X_20', 25], ['X_21', 8], ['X_22', 10], ['X_23', 28], ['X_24', 4], ['X_25', 5], ['X_26', 14], ['X_27', 2], ['X_28', 18], ['X_29', 7], ['X_30', 1]] \n",
      "\n",
      "[['X_0', 1], ['X_1', 27], ['X_2', 16], ['X_3', 29], ['X_4', 8], ['X_5', 30], ['X_6', 4], ['X_7', 15], ['X_8', 2], ['X_9', 23], ['X_10', 1], ['X_11', 27], ['X_12', 16], ['X_13', 29], ['X_14', 8], ['X_15', 30], ['X_16', 4], ['X_17', 15], ['X_18', 2], ['X_19', 23], ['X_20', 1], ['X_21', 27], ['X_22', 16], ['X_23', 29], ['X_24', 8], ['X_25', 30], ['X_26', 4], ['X_27', 15], ['X_28', 2], ['X_29', 23], ['X_30', 1]] \n",
      "\n",
      "[['X_0', 1], ['X_1', 19], ['X_2', 20], ['X_3', 8], ['X_4', 28], ['X_5', 5], ['X_6', 2], ['X_7', 7], ['X_8', 9], ['X_9', 16], ['X_10', 25], ['X_11', 10], ['X_12', 4], ['X_13', 14], ['X_14', 18], ['X_15', 1], ['X_16', 19], ['X_17', 20], ['X_18', 8], ['X_19', 28], ['X_20', 5], ['X_21', 2], ['X_22', 7], ['X_23', 9], ['X_24', 16], ['X_25', 25], ['X_26', 10], ['X_27', 4], ['X_28', 14], ['X_29', 18], ['X_30', 1]]\n"
     ]
    }
   ],
   "source": [
    "def cong_linear(m, a):\n",
    "    array_aux = [[\"X_0\",1]]\n",
    "    y = 0\n",
    "    while y < m-1:\n",
    "        \n",
    "        array_aux_2 = []\n",
    "        \n",
    "        array_aux_2.append(\"X_\"+ str(y+1))\n",
    "        \n",
    "        array_aux_2.append(((a)*array_aux[y][1])%m)\n",
    "        \n",
    "        array_aux.append(array_aux_2)\n",
    "        \n",
    "        y+=1\n",
    "        \n",
    "    return array_aux\n",
    "\n",
    "print(cong_linear(31,3^1),\"\\n\")\n",
    "print(cong_linear(31,3^2),\"\\n\")\n",
    "print(cong_linear(31,3^3),\"\\n\")\n",
    "print(cong_linear(31,3^4))"
   ]
  },
  {
   "cell_type": "markdown",
   "metadata": {
    "collapsed": false
   },
   "source": [
    "#### <span style='font-family:Impact'>8. O algoritmo Blum Blum Shub é baseado na teoria dos resíduos quadráticos e utiliza três números inteiros para realizar os cálculos: p, q e s.</span>\n",
    "\n"
   ]
  },
  {
   "cell_type": "markdown",
   "metadata": {
    "collapsed": false
   },
   "source": [
    "##### <span style='font-family:Impact'>\\(a\\) Escolha dois números primos grandes p e q, onde p e q sejam congruentes a 3 mod 4 e não tenham fatores primos comuns. Por exemplo, você pode escolher p = 499 e q = 503.</span>\n",
    "\n"
   ]
  },
  {
   "cell_type": "code",
   "execution_count": 7,
   "metadata": {
    "collapsed": false
   },
   "outputs": [
    {
     "name": "stdout",
     "output_type": "stream",
     "text": [
      "3 3\n",
      "1\n"
     ]
    }
   ],
   "source": [
    "print(719%4, 743%4)\n",
    "print(gcd(719,743))\n",
    "p = 719\n",
    "q = 743"
   ]
  },
  {
   "cell_type": "markdown",
   "metadata": {
    "collapsed": false
   },
   "source": [
    "##### <span style='font-family:Impact'>\\(b\\) Calcule n = p ∗ q</span>\n",
    "\n"
   ]
  },
  {
   "cell_type": "code",
   "execution_count": 11,
   "metadata": {
    "collapsed": false
   },
   "outputs": [
    {
     "name": "stdout",
     "output_type": "stream",
     "text": [
      "534217\n",
      "1\n"
     ]
    }
   ],
   "source": [
    "print(p*q)"
   ]
  },
  {
   "cell_type": "markdown",
   "metadata": {
    "collapsed": false
   },
   "source": [
    "##### <span style='font-family:Impact'>\\(c\\) Escolha um número inteiro s entre 1 e n − 1 que seja co\\-primo com n.</span>\n",
    "\n"
   ]
  },
  {
   "cell_type": "code",
   "execution_count": 14,
   "metadata": {
    "collapsed": false
   },
   "outputs": [
    {
     "name": "stdout",
     "output_type": "stream",
     "text": [
      "1\n"
     ]
    }
   ],
   "source": [
    "print(gcd(p*q,7))\n",
    "s = 7"
   ]
  },
  {
   "cell_type": "markdown",
   "metadata": {
    "collapsed": false
   },
   "source": [
    "##### <span style='font-family:Impact'>\\(d\\) Calcule o valor inicial x0 = \\(s^2\\) mod n</span>\n",
    "\n"
   ]
  },
  {
   "cell_type": "code",
   "execution_count": 15,
   "metadata": {
    "collapsed": false
   },
   "outputs": [
    {
     "name": "stdout",
     "output_type": "stream",
     "text": [
      "49\n"
     ]
    }
   ],
   "source": [
    "print((s^2)%(p*q))"
   ]
  },
  {
   "cell_type": "markdown",
   "metadata": {
    "collapsed": false
   },
   "source": [
    "##### <span style='font-family:Impact'>\\(e\\) Agora, vamos gerar uma sequência de números aleatórios usando o algoritmo Blum Blum Shub. Para gerar cada número da sequência, use a seguinte fórmula: xi = \\(x^2i \\- 1\\) mod n.</span>\n",
    "\n"
   ]
  },
  {
   "cell_type": "code",
   "execution_count": 23,
   "metadata": {
    "collapsed": false
   },
   "outputs": [
    {
     "name": "stdout",
     "output_type": "stream",
     "text": [
      "2401\n"
     ]
    }
   ],
   "source": [
    "x_1 = 49^2 % 534217\n",
    "print(x_1)"
   ]
  },
  {
   "cell_type": "markdown",
   "metadata": {
    "collapsed": false
   },
   "source": [
    "##### <span style='font-family:Impact'>\\(f\\) Execute a fórmula várias vezes para gerar uma sequência de números aleatórios. Por exemplo, você pode executar a fórmula 10 vezes para obter 10 números aleatórios.</span>\n",
    "\n"
   ]
  },
  {
   "cell_type": "code",
   "execution_count": 26,
   "metadata": {
    "collapsed": false,
    "scrolled": true
   },
   "outputs": [
    {
     "name": "stdout",
     "output_type": "stream",
     "text": [
      "X_0: 7\n",
      "X_1: 49\n",
      "X_2: 2401\n",
      "X_3: 422631\n",
      "X_4: 439777\n",
      "X_5: 160785\n",
      "X_6: 521378\n",
      "X_7: 301085\n",
      "X_8: 360278\n",
      "X_9: 464360\n",
      "X_10: 462371\n"
     ]
    }
   ],
   "source": [
    "def blum_shub(m, s):\n",
    "    array_aux = [[\"X_0\",s]]\n",
    "    y = 0\n",
    "    while y < 10:\n",
    "        \n",
    "        array_aux_2 = []\n",
    "        \n",
    "        array_aux_2.append(\"X_\"+ str(y+1))\n",
    "        \n",
    "        array_aux_2.append(((array_aux[y][1]^2)%m))\n",
    "        \n",
    "        array_aux.append(array_aux_2)\n",
    "        \n",
    "        y+=1\n",
    "        \n",
    "    return array_aux\n",
    "\n",
    "for x in blum_shub(534217,7):\n",
    "    print(x[0] + \":\",x[1])"
   ]
  }
 ],
 "metadata": {
  "kernelspec": {
   "argv": [
    "sage-10.0",
    "--python",
    "-m",
    "sage.repl.ipython_kernel",
    "--matplotlib=inline",
    "-f",
    "{connection_file}"
   ],
   "display_name": "SageMath 10.0",
   "env": {
   },
   "language": "sagemath",
   "metadata": {
    "cocalc": {
     "description": "Open-source mathematical software system",
     "priority": 10,
     "url": "https://www.sagemath.org/"
    }
   },
   "name": "sage-10.0",
   "resource_dir": "/ext/jupyter/kernels/sage-10.0"
  },
  "language_info": {
   "codemirror_mode": {
    "name": "ipython",
    "version": 3
   },
   "file_extension": ".py",
   "mimetype": "text/x-python",
   "name": "python",
   "nbconvert_exporter": "python",
   "pygments_lexer": "ipython3",
   "version": "3.11.1"
  }
 },
 "nbformat": 4,
 "nbformat_minor": 4
}