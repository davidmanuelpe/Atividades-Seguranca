{
 "cells": [
  {
   "cell_type": "code",
   "execution_count": 144,
   "metadata": {
    "collapsed": false
   },
   "outputs": [
   ],
   "source": [
    "from sage.all import *\n",
    "import random"
   ]
  },
  {
   "cell_type": "code",
   "execution_count": 145,
   "metadata": {
    "collapsed": false
   },
   "outputs": [
   ],
   "source": [
    "en_alphabet = \"abcdefghijklmnopqrstuvwxyz\""
   ]
  },
  {
   "cell_type": "code",
   "execution_count": 184,
   "metadata": {
    "collapsed": false
   },
   "outputs": [
    {
     "name": "stdout",
     "output_type": "stream",
     "text": [
      "hellow\n",
      "[ 2  1]\n",
      "[-1  4]\n",
      "(7, 4, 11, 11, 14, 22)\n"
     ]
    }
   ],
   "source": [
    "key = matrix(ZZ,[[2,1], [-1,4]])\n",
    "message = 'hello'\n",
    "if len(message)%2 != 0:\n",
    "    message += random.choice(en_alphabet)\n",
    "print(message)\n",
    "message_vector = vector(ZZ,[en_alphabet.index(c) for c in message])\n",
    "\n",
    "print(key)\n",
    "print(message_vector)"
   ]
  },
  {
   "cell_type": "code",
   "execution_count": 185,
   "metadata": {
    "collapsed": false
   },
   "outputs": [
   ],
   "source": [
    "split_strings = []\n",
    "n  = 2\n",
    "for index in range(0, len(message_vector), n):\n",
    "    split_strings.append(message_vector[index : index + n])"
   ]
  },
  {
   "cell_type": "code",
   "execution_count": 186,
   "metadata": {
    "collapsed": false
   },
   "outputs": [
    {
     "name": "stdout",
     "output_type": "stream",
     "text": [
      "[(7, 4), (11, 11), (14, 22)]\n"
     ]
    }
   ],
   "source": [
    "print(split_strings)"
   ]
  },
  {
   "cell_type": "code",
   "execution_count": 187,
   "metadata": {
    "collapsed": false
   },
   "outputs": [
    {
     "name": "stdout",
     "output_type": "stream",
     "text": [
      "sjhhyw\n"
     ]
    }
   ],
   "source": [
    "cipher_text = \"\"\n",
    "for x in split_strings:\n",
    "    cipher_vector = key * x\n",
    "    cipher_text += ''.join([en_alphabet[i % 26] for i in cipher_vector])\n",
    "print(cipher_text)"
   ]
  },
  {
   "cell_type": "code",
   "execution_count": 188,
   "metadata": {
    "collapsed": false
   },
   "outputs": [
    {
     "name": "stdout",
     "output_type": "stream",
     "text": [
      "[ 4 -1]\n",
      "[ 1  2]\n"
     ]
    }
   ],
   "source": [
    "key_inverse = key^-1 * 9\n",
    "print(key_inverse)"
   ]
  },
  {
   "cell_type": "code",
   "execution_count": 189,
   "metadata": {
    "collapsed": false
   },
   "outputs": [
    {
     "name": "stdout",
     "output_type": "stream",
     "text": [
      "(18, 9, 7, 7, 24, 22)\n"
     ]
    }
   ],
   "source": [
    "#vetor dos caracteres criptografados\n",
    "cipher_vector = vector(ZZ,[en_alphabet.index(c) for c in cipher_text])\n",
    "print(cipher_vector)"
   ]
  },
  {
   "cell_type": "code",
   "execution_count": 190,
   "metadata": {
    "collapsed": false
   },
   "outputs": [
    {
     "name": "stdout",
     "output_type": "stream",
     "text": [
      "[12 23]\n",
      "[ 3  6]\n"
     ]
    }
   ],
   "source": [
    "# Calculo de inverso modular \n",
    "det= power_mod(key_inverse.determinant(),-1,26)\n",
    "key_inverse = (key_inverse * det) % 26\n",
    "print(key_inverse)\n"
   ]
  },
  {
   "cell_type": "code",
   "execution_count": 191,
   "metadata": {
    "collapsed": false
   },
   "outputs": [
   ],
   "source": [
    "split_strings = []\n",
    "n  = 2\n",
    "for index in range(0, len(cipher_vector), n):\n",
    "    split_strings.append(cipher_vector[index : index + n])"
   ]
  },
  {
   "cell_type": "code",
   "execution_count": 192,
   "metadata": {
    "collapsed": false
   },
   "outputs": [
   ],
   "source": [
    "#Descriptografia\n",
    "plain_text = \"\"\n",
    "for x in split_strings:\n",
    "    cipher_vector = key_inverse * x\n",
    "    plain_text += ''.join([en_alphabet[i % 26] for i in cipher_vector])\n"
   ]
  },
  {
   "cell_type": "code",
   "execution_count": 193,
   "metadata": {
    "collapsed": false
   },
   "outputs": [
    {
     "name": "stdout",
     "output_type": "stream",
     "text": [
      "hellow\n"
     ]
    }
   ],
   "source": [
    " \n",
    "print(plain_text)\n"
   ]
  }
 ],
 "metadata": {
  "kernelspec": {
   "argv": [
    "sage-10.0",
    "--python",
    "-m",
    "sage.repl.ipython_kernel",
    "--matplotlib=inline",
    "-f",
    "{connection_file}"
   ],
   "display_name": "SageMath 10.0",
   "env": {
   },
   "language": "sagemath",
   "metadata": {
    "cocalc": {
     "description": "Open-source mathematical software system",
     "priority": 10,
     "url": "https://www.sagemath.org/"
    }
   },
   "name": "sage-10.0",
   "resource_dir": "/ext/jupyter/kernels/sage-10.0"
  },
  "language_info": {
   "codemirror_mode": {
    "name": "ipython",
    "version": 3
   },
   "file_extension": ".py",
   "mimetype": "text/x-python",
   "name": "python",
   "nbconvert_exporter": "python",
   "pygments_lexer": "ipython3",
   "version": "3.11.1"
  }
 },
 "nbformat": 4,
 "nbformat_minor": 4
}