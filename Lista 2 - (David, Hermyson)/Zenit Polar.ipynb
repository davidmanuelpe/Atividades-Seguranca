{
 "cells": [
  {
   "cell_type": "code",
   "execution_count": 2,
   "metadata": {
    "collapsed": false
   },
   "outputs": [
   ],
   "source": [
    "def zenit_polar(string):\n",
    "    a = {'z': 'p', 'e': 'o', 'n': 'l', 'i': 'a', 't': 'r'}\n",
    "    b = {'p': 'z', 'o': 'e', 'l': 'n', 'a': 'i', 'r': 't'}\n",
    "    \n",
    "    array_indices_trocados = []\n",
    "    \n",
    "    saida = \"\"\n",
    "    \n",
    "    for x in range(len(string)):\n",
    "        if string[x] in a.keys():\n",
    "            saida += a[string[x]]\n",
    "            array_indices_trocados.append(x)\n",
    "        elif string[x] in b.keys():\n",
    "            saida += b[string[x]]\n",
    "            array_indices_trocados.append(x)\n",
    "        if x not in array_indices_trocados:\n",
    "            saida += string[x]\n",
    "        \n",
    "    return saida"
   ]
  },
  {
   "cell_type": "code",
   "execution_count": 3,
   "metadata": {
    "collapsed": false
   },
   "outputs": [
    {
     "name": "stdout",
     "output_type": "stream",
     "text": [
      "yeurubo\n"
     ]
    }
   ],
   "source": [
    "saida = zenit_polar(\"youtube\")\n",
    "\n",
    "print(saida)"
   ]
  },
  {
   "cell_type": "code",
   "execution_count": 4,
   "metadata": {
    "collapsed": false
   },
   "outputs": [
    {
     "name": "stdout",
     "output_type": "stream",
     "text": [
      "youtube\n"
     ]
    }
   ],
   "source": [
    "saida = zenit_polar(\"yeurubo\")\n",
    "\n",
    "print(saida)"
   ]
  },
  {
   "cell_type": "markdown",
   "metadata": {
    "collapsed": false
   },
   "source": [
   ]
  },
  {
   "cell_type": "markdown",
   "metadata": {
    "collapsed": false
   },
   "source": [
   ]
  }
 ],
 "metadata": {
  "kernelspec": {
   "argv": [
    "sage-10.0",
    "--python",
    "-m",
    "sage.repl.ipython_kernel",
    "--matplotlib=inline",
    "-f",
    "{connection_file}"
   ],
   "display_name": "SageMath 10.0",
   "env": {
   },
   "language": "sagemath",
   "metadata": {
    "cocalc": {
     "description": "Open-source mathematical software system",
     "priority": 10,
     "url": "https://www.sagemath.org/"
    }
   },
   "name": "sage-10.0",
   "resource_dir": "/ext/jupyter/kernels/sage-10.0"
  },
  "language_info": {
   "codemirror_mode": {
    "name": "ipython",
    "version": 3
   },
   "file_extension": ".py",
   "mimetype": "text/x-python",
   "name": "python",
   "nbconvert_exporter": "python",
   "pygments_lexer": "ipython3",
   "version": "3.11.1"
  }
 },
 "nbformat": 4,
 "nbformat_minor": 4
}